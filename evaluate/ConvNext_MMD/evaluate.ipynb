{
 "cells": [
  {
   "cell_type": "code",
   "execution_count": null,
   "metadata": {},
   "outputs": [
    {
     "name": "stdout",
     "output_type": "stream",
     "text": [
      "已复制 /home/ps/sdbench/Shanshui/fluxlora_30_5/20241212_105828.png 到 /home/ps/zyp/evaluate/test10/flux_1/20241212_105828.png\n",
      "已复制 /home/ps/sdbench/Shanshui/SD3lora_40_5/20241212_192332.png 到 /home/ps/zyp/evaluate/test10/sd3_1/20241212_192332.png\n",
      "已复制 /home/ps/sdbench/Shanshui/sdxl_lora_5/image_20241217-205423_000.png 到 /home/ps/zyp/evaluate/test10/sdxl_1/image_20241217-205423_000.png\n",
      "已复制 /home/ps/sdbench/Shanshui/sdlora_50_5/im_20241212220927_000_2481609806.png 到 /home/ps/zyp/evaluate/test10/sd1.5_1/im_20241212220927_000_2481609806.png\n"
     ]
    }
   ],
   "source": [
    "import os\n",
    "import random\n",
    "import shutil\n",
    "\n",
    "# 定义原始图片所在文件夹（请根据实际情况修改路径）\n",
    "source_folders = {\n",
    "    \"flux\": \"/home/ps/sdbench/Shanshui/fluxlora_30_5\",\n",
    "    \"sd3\": \"/home/ps/sdbench/Shanshui/SD3lora_40_5\",\n",
    "    \"sdxl\": \"/home/ps/sdbench/Shanshui/sdxl_lora_5\",\n",
    "    \"sd1.5\": \"/home/ps/sdbench/Shanshui/sdlora_50_5\"\n",
    "}\n",
    "\n",
    "# 定义目标测试文件夹路径\n",
    "dest_root = \"/home/ps/zyp/evaluate/test10\"\n",
    "\n",
    "# 确保目标文件夹存在\n",
    "os.makedirs(dest_root, exist_ok=True)\n",
    "\n",
    "# 每个类别抽取的图片数量（即生成的子文件夹数）\n",
    "num_samples = 1\n",
    "\n",
    "# 允许的图片扩展名\n",
    "valid_extensions = ('.png', '.jpg', '.jpeg', '.bmp', '.tif', '.tiff', '.webp')\n",
    "\n",
    "for category, src_dir in source_folders.items():\n",
    "    # 获取源文件夹中所有符合扩展名要求的图片\n",
    "    images = [f for f in os.listdir(src_dir) if f.lower().endswith(valid_extensions)]\n",
    "    \n",
    "    if len(images) < num_samples:\n",
    "        raise ValueError(f\"文件夹 {src_dir} 中图片数量不足，至少需要 {num_samples} 张，当前只有 {len(images)} 张\")\n",
    "    \n",
    "    # 随机打乱图片列表（确保不重复选择）\n",
    "    random.shuffle(images)\n",
    "    \n",
    "    # 对于每个样本编号 1 到 num_samples，创建一个子文件夹并复制一张图片\n",
    "    for i in range(1, num_samples + 1):\n",
    "        # 构造新的子文件夹名称，如 flux_1, flux_2, … sd3_1, sd3_2, ...\n",
    "        dest_folder = os.path.join(dest_root, f\"{category}_{i}\")\n",
    "        os.makedirs(dest_folder, exist_ok=True)\n",
    "        \n",
    "        # 选择列表中的第 i-1 张图片\n",
    "        src_image_path = os.path.join(src_dir, images[i - 1])\n",
    "        dest_image_path = os.path.join(dest_folder, images[i - 1])\n",
    "        \n",
    "        # 复制图片到新的子文件夹\n",
    "        shutil.copy2(src_image_path, dest_image_path)\n",
    "        print(f\"已复制 {src_image_path} 到 {dest_image_path}\")\n",
    "\n"
   ]
  },
  {
   "cell_type": "markdown",
   "metadata": {},
   "source": [
    "## 最开始的改进CMMD"
   ]
  },
  {
   "cell_type": "code",
   "execution_count": 1,
   "metadata": {},
   "outputs": [
    {
     "name": "stdout",
     "output_type": "stream",
     "text": [
      "/home/ps\n",
      "/home/ps/sdbench\n"
     ]
    }
   ],
   "source": [
    "import os\n",
    "print(os.getcwd())\n",
    "os.chdir('/home/ps/sdbench')\n",
    "print(os.getcwd())\n"
   ]
  },
  {
   "cell_type": "code",
   "execution_count": 2,
   "metadata": {},
   "outputs": [
    {
     "ename": "FileNotFoundError",
     "evalue": "[Errno 2] No such file or directory: '/home/ps/zyp/evaluate/test10'",
     "output_type": "error",
     "traceback": [
      "\u001b[0;31m---------------------------------------------------------------------------\u001b[0m",
      "\u001b[0;31mFileNotFoundError\u001b[0m                         Traceback (most recent call last)",
      "Cell \u001b[0;32mIn[2], line 48\u001b[0m\n\u001b[1;32m     46\u001b[0m output_dir \u001b[38;5;241m=\u001b[39m \u001b[38;5;124m\"\u001b[39m\u001b[38;5;124m/home/ps/zyp/evaluate/test10\u001b[39m\u001b[38;5;124m\"\u001b[39m  \u001b[38;5;66;03m# 目标文件夹路径\u001b[39;00m\n\u001b[1;32m     47\u001b[0m result_fid_json \u001b[38;5;241m=\u001b[39m \u001b[38;5;124m\"\u001b[39m\u001b[38;5;124m/home/ps/zyp/evaluate/test10/result2.json\u001b[39m\u001b[38;5;124m\"\u001b[39m  \u001b[38;5;66;03m# 保存结果的 JSON 文件路径\u001b[39;00m\n\u001b[0;32m---> 48\u001b[0m \u001b[43mcompute_and_save_scores\u001b[49m\u001b[43m(\u001b[49m\u001b[43moutput_dir\u001b[49m\u001b[43m,\u001b[49m\u001b[43m \u001b[49m\u001b[43mresult_fid_json\u001b[49m\u001b[43m)\u001b[49m\n",
      "Cell \u001b[0;32mIn[2], line 16\u001b[0m, in \u001b[0;36mcompute_and_save_scores\u001b[0;34m(output_dir, result_fid_json)\u001b[0m\n\u001b[1;32m     15\u001b[0m \u001b[38;5;28;01mdef\u001b[39;00m \u001b[38;5;21mcompute_and_save_scores\u001b[39m(output_dir, result_fid_json):\n\u001b[0;32m---> 16\u001b[0m     folder_paths \u001b[38;5;241m=\u001b[39m \u001b[43mget_folders\u001b[49m\u001b[43m(\u001b[49m\u001b[43moutput_dir\u001b[49m\u001b[43m)\u001b[49m\n\u001b[1;32m     17\u001b[0m     \u001b[38;5;28mprint\u001b[39m(folder_paths)\n\u001b[1;32m     19\u001b[0m     results \u001b[38;5;241m=\u001b[39m {}\n",
      "Cell \u001b[0;32mIn[2], line 9\u001b[0m, in \u001b[0;36mget_folders\u001b[0;34m(folder_path)\u001b[0m\n\u001b[1;32m      7\u001b[0m \u001b[38;5;250m\u001b[39m\u001b[38;5;124;03m\"\"\"获取指定文件夹下的所有子文件夹\"\"\"\u001b[39;00m\n\u001b[1;32m      8\u001b[0m folder_paths \u001b[38;5;241m=\u001b[39m []\n\u001b[0;32m----> 9\u001b[0m \u001b[38;5;28;01mfor\u001b[39;00m folder \u001b[38;5;129;01min\u001b[39;00m \u001b[43mos\u001b[49m\u001b[38;5;241;43m.\u001b[39;49m\u001b[43mlistdir\u001b[49m\u001b[43m(\u001b[49m\u001b[43mfolder_path\u001b[49m\u001b[43m)\u001b[49m:\n\u001b[1;32m     10\u001b[0m     folder_path_full \u001b[38;5;241m=\u001b[39m os\u001b[38;5;241m.\u001b[39mpath\u001b[38;5;241m.\u001b[39mjoin(folder_path, folder)\n\u001b[1;32m     11\u001b[0m     \u001b[38;5;28;01mif\u001b[39;00m os\u001b[38;5;241m.\u001b[39mpath\u001b[38;5;241m.\u001b[39misdir(folder_path_full):\n",
      "\u001b[0;31mFileNotFoundError\u001b[0m: [Errno 2] No such file or directory: '/home/ps/zyp/evaluate/test10'"
     ]
    }
   ],
   "source": [
    "from evaluate import *\n",
    "import os\n",
    "import json\n",
    "from tqdm import tqdm\n",
    "\n",
    "def get_folders(folder_path):\n",
    "    \"\"\"获取指定文件夹下的所有子文件夹\"\"\"\n",
    "    folder_paths = []\n",
    "    for folder in os.listdir(folder_path):\n",
    "        folder_path_full = os.path.join(folder_path, folder)\n",
    "        if os.path.isdir(folder_path_full):\n",
    "            folder_paths.append(folder_path_full)\n",
    "    return folder_paths\n",
    "\n",
    "def compute_and_save_scores(output_dir, result_fid_json):\n",
    "    folder_paths = get_folders(output_dir)\n",
    "    print(folder_paths)\n",
    "    \n",
    "    results = {}\n",
    "\n",
    "    # 遍历每个文件夹，计算 CMMD 和 FID 分数\n",
    "    print(\"Processing folders...\")\n",
    "    for folder_path in tqdm(folder_paths, desc=\"Processing folders\"):\n",
    "        folder_name = os.path.basename(folder_path)\n",
    "        print(f\"Processing folder: {folder_name}\")\n",
    "        \n",
    "        # 计算 CMMD 和 FID 分数（针对整个文件夹）\n",
    "        CMMD_score = calc_CMMD_Score('/home/ps/sdbench/Shanshui/Shanshui', folder_path)\n",
    "        CMMD_plus_score = cmmd_single_image_against_ref('/home/ps/sdbench/Shanshui/Shanshui', folder_path)\n",
    "        #fid_score = calc_Fid('/home/ps/sdbench/Shanshui/Shanshui', folder_path)\n",
    "        \n",
    "        # 将分数添加到结果字典中\n",
    "        results[folder_name] = {\n",
    "            'CMMD_score': CMMD_score,\n",
    "            'CMMD_plus_score': CMMD_plus_score,\n",
    "            #'FID_score': fid_score\n",
    "        }\n",
    "\n",
    "    # 保存结果到 JSON 文件\n",
    "    with open(result_fid_json, 'w') as f:\n",
    "        json.dump(results, f, indent=4)\n",
    "\n",
    "    print(f\"Results saved to {result_fid_json}\")\n",
    "\n",
    "if __name__ == \"__main__\":\n",
    "    output_dir = \"/home/ps/zyp/evaluate/test10\"  # 目标文件夹路径\n",
    "    result_fid_json = \"/home/ps/zyp/evaluate/test10/result2.json\"  # 保存结果的 JSON 文件路径\n",
    "    compute_and_save_scores(output_dir, result_fid_json)\n"
   ]
  },
  {
   "cell_type": "code",
   "execution_count": 50,
   "metadata": {},
   "outputs": [
    {
     "name": "stdout",
     "output_type": "stream",
     "text": [
      "按 CMMD_score 升序排序：\n",
      "sdxl_1: {'CMMD_score': 1.5823841094970703, 'CMMD_plus_score': 2.3500919342041016}\n",
      "sd3_1: {'CMMD_score': 1.6552209854125977, 'CMMD_plus_score': 2.6106834411621094}\n",
      "sd1.5_1: {'CMMD_score': 1.954793930053711, 'CMMD_plus_score': 1.9466876983642578}\n",
      "flux_1: {'CMMD_score': 2.1022558212280273, 'CMMD_plus_score': 2.73895263671875}\n",
      "\n",
      "按 CMMD_plus_score 升序排序：\n",
      "sd1.5_1: {'CMMD_score': 1.954793930053711, 'CMMD_plus_score': 1.9466876983642578}\n",
      "sdxl_1: {'CMMD_score': 1.5823841094970703, 'CMMD_plus_score': 2.3500919342041016}\n",
      "sd3_1: {'CMMD_score': 1.6552209854125977, 'CMMD_plus_score': 2.6106834411621094}\n",
      "flux_1: {'CMMD_score': 2.1022558212280273, 'CMMD_plus_score': 2.73895263671875}\n"
     ]
    }
   ],
   "source": [
    "import json\n",
    "\n",
    "# 指定 JSON 文件路径\n",
    "json_file_path = '/home/ps/zyp/evaluate/test10/result2.json'\n",
    "\n",
    "# 从文件中读取 JSON 数据\n",
    "with open(json_file_path, 'r', encoding='utf-8') as f:\n",
    "    data = json.load(f)\n",
    "\n",
    "# 按 CMMD_score 升序排序\n",
    "sorted_by_cmmd = sorted(data.items(), key=lambda item: item[1]['CMMD_score'])\n",
    "\n",
    "# 按 CMMD_plus_score 升序排序\n",
    "sorted_by_cmmd_plus = sorted(data.items(), key=lambda item: item[1]['CMMD_plus_score'])\n",
    "\n",
    "print(\"按 CMMD_score 升序排序：\")\n",
    "for folder, scores in sorted_by_cmmd:\n",
    "    print(f\"{folder}: {scores}\")\n",
    "\n",
    "print(\"\\n按 CMMD_plus_score 升序排序：\")\n",
    "for folder, scores in sorted_by_cmmd_plus:\n",
    "    print(f\"{folder}: {scores}\")"
   ]
  },
  {
   "cell_type": "markdown",
   "metadata": {},
   "source": [
    "## EMA+改进后的CMMD"
   ]
  },
  {
   "cell_type": "code",
   "execution_count": 1,
   "metadata": {},
   "outputs": [
    {
     "name": "stdout",
     "output_type": "stream",
     "text": [
      "/home/ps\n",
      "/home/ps/sdbench\n"
     ]
    }
   ],
   "source": [
    "import os\n",
    "print(os.getcwd())\n",
    "os.chdir('/home/ps/sdbench')\n",
    "print(os.getcwd())"
   ]
  },
  {
   "cell_type": "code",
   "execution_count": 3,
   "metadata": {},
   "outputs": [
    {
     "name": "stdout",
     "output_type": "stream",
     "text": [
      "发现以下待处理的文件夹组: dict_keys(['sdxl', 'sd3', 'sd1.5', 'flux'])\n",
      "\n",
      "计算参考图像集的 embedding（只计算一次）...\n",
      "计算目录 /home/ps/sdbench/train/datasets/Renwu 中 33 张图片的embeddings.\n"
     ]
    },
    {
     "name": "stderr",
     "output_type": "stream",
     "text": [
      "2it [00:00,  2.47it/s]                                                                                                                                             \n"
     ]
    },
    {
     "name": "stdout",
     "output_type": "stream",
     "text": [
      "参考集 embedding 计算完成！\n",
      "\n",
      "开始计算前缀分组后的 CMMD 评分...\n"
     ]
    },
    {
     "name": "stderr",
     "output_type": "stream",
     "text": [
      "Processing folder groups:   0%|                                                                                                              | 0/4 [00:00<?, ?it/s]"
     ]
    },
    {
     "name": "stdout",
     "output_type": "stream",
     "text": [
      "\n",
      "处理前缀: sdxl\n"
     ]
    },
    {
     "name": "stderr",
     "output_type": "stream",
     "text": [
      "Parameter Perturbation: 100%|████████████████████████████████████████████████████████████████████████████████████████████████████████| 5/5 [00:11<00:00,  2.37s/it]\n",
      "Parameter Perturbation: 100%|████████████████████████████████████████████████████████████████████████████████████████████████████████| 5/5 [00:10<00:00,  2.05s/it]\n",
      "Parameter Perturbation: 100%|████████████████████████████████████████████████████████████████████████████████████████████████████████| 5/5 [00:08<00:00,  1.66s/it]\n",
      "Parameter Perturbation: 100%|████████████████████████████████████████████████████████████████████████████████████████████████████████| 5/5 [00:10<00:00,  2.19s/it]\n",
      "Parameter Perturbation: 100%|████████████████████████████████████████████████████████████████████████████████████████████████████████| 5/5 [00:09<00:00,  1.97s/it]\n",
      "Parameter Perturbation: 100%|████████████████████████████████████████████████████████████████████████████████████████████████████████| 5/5 [00:10<00:00,  2.07s/it]\n",
      "Parameter Perturbation: 100%|████████████████████████████████████████████████████████████████████████████████████████████████████████| 5/5 [00:10<00:00,  2.10s/it]\n",
      "Parameter Perturbation: 100%|████████████████████████████████████████████████████████████████████████████████████████████████████████| 5/5 [00:09<00:00,  1.80s/it]\n",
      "Parameter Perturbation: 100%|████████████████████████████████████████████████████████████████████████████████████████████████████████| 5/5 [00:10<00:00,  2.16s/it]\n",
      "Parameter Perturbation: 100%|████████████████████████████████████████████████████████████████████████████████████████████████████████| 5/5 [00:09<00:00,  1.90s/it]\n",
      "Processing folder groups:  25%|█████████████████████████▎                                                                           | 1/4 [01:43<05:10, 103.44s/it]"
     ]
    },
    {
     "name": "stdout",
     "output_type": "stream",
     "text": [
      "\n",
      "处理前缀: sd3\n"
     ]
    },
    {
     "name": "stderr",
     "output_type": "stream",
     "text": [
      "Parameter Perturbation: 100%|████████████████████████████████████████████████████████████████████████████████████████████████████████| 5/5 [00:09<00:00,  1.88s/it]\n",
      "Parameter Perturbation: 100%|████████████████████████████████████████████████████████████████████████████████████████████████████████| 5/5 [00:09<00:00,  1.92s/it]\n",
      "Parameter Perturbation: 100%|████████████████████████████████████████████████████████████████████████████████████████████████████████| 5/5 [00:11<00:00,  2.31s/it]\n",
      "Parameter Perturbation: 100%|████████████████████████████████████████████████████████████████████████████████████████████████████████| 5/5 [00:10<00:00,  2.04s/it]\n",
      "Parameter Perturbation: 100%|████████████████████████████████████████████████████████████████████████████████████████████████████████| 5/5 [00:09<00:00,  1.84s/it]\n",
      "Parameter Perturbation: 100%|████████████████████████████████████████████████████████████████████████████████████████████████████████| 5/5 [00:09<00:00,  1.85s/it]\n",
      "Parameter Perturbation: 100%|████████████████████████████████████████████████████████████████████████████████████████████████████████| 5/5 [00:10<00:00,  2.14s/it]\n",
      "Parameter Perturbation: 100%|████████████████████████████████████████████████████████████████████████████████████████████████████████| 5/5 [00:10<00:00,  2.10s/it]\n",
      "Parameter Perturbation: 100%|████████████████████████████████████████████████████████████████████████████████████████████████████████| 5/5 [00:11<00:00,  2.24s/it]\n",
      "Parameter Perturbation: 100%|████████████████████████████████████████████████████████████████████████████████████████████████████████| 5/5 [00:10<00:00,  2.07s/it]\n",
      "Processing folder groups:  50%|██████████████████████████████████████████████████▌                                                  | 2/4 [03:27<03:28, 104.03s/it]"
     ]
    },
    {
     "name": "stdout",
     "output_type": "stream",
     "text": [
      "\n",
      "处理前缀: sd1.5\n"
     ]
    },
    {
     "name": "stderr",
     "output_type": "stream",
     "text": [
      "Parameter Perturbation: 100%|████████████████████████████████████████████████████████████████████████████████████████████████████████| 5/5 [00:09<00:00,  1.88s/it]\n",
      "Parameter Perturbation: 100%|████████████████████████████████████████████████████████████████████████████████████████████████████████| 5/5 [00:11<00:00,  2.31s/it]\n",
      "Parameter Perturbation: 100%|████████████████████████████████████████████████████████████████████████████████████████████████████████| 5/5 [00:11<00:00,  2.36s/it]\n",
      "Parameter Perturbation: 100%|████████████████████████████████████████████████████████████████████████████████████████████████████████| 5/5 [00:08<00:00,  1.71s/it]\n",
      "Parameter Perturbation: 100%|████████████████████████████████████████████████████████████████████████████████████████████████████████| 5/5 [00:09<00:00,  1.89s/it]\n",
      "Parameter Perturbation: 100%|████████████████████████████████████████████████████████████████████████████████████████████████████████| 5/5 [00:08<00:00,  1.79s/it]\n",
      "Parameter Perturbation: 100%|████████████████████████████████████████████████████████████████████████████████████████████████████████| 5/5 [00:10<00:00,  2.16s/it]\n",
      "Parameter Perturbation: 100%|████████████████████████████████████████████████████████████████████████████████████████████████████████| 5/5 [00:09<00:00,  1.86s/it]\n",
      "Parameter Perturbation: 100%|████████████████████████████████████████████████████████████████████████████████████████████████████████| 5/5 [00:09<00:00,  1.95s/it]\n",
      "Parameter Perturbation: 100%|████████████████████████████████████████████████████████████████████████████████████████████████████████| 5/5 [00:11<00:00,  2.29s/it]\n",
      "Processing folder groups:  75%|███████████████████████████████████████████████████████████████████████████▊                         | 3/4 [05:11<01:43, 103.79s/it]"
     ]
    },
    {
     "name": "stdout",
     "output_type": "stream",
     "text": [
      "\n",
      "处理前缀: flux\n"
     ]
    },
    {
     "name": "stderr",
     "output_type": "stream",
     "text": [
      "Parameter Perturbation: 100%|████████████████████████████████████████████████████████████████████████████████████████████████████████| 5/5 [00:11<00:00,  2.31s/it]\n",
      "Parameter Perturbation: 100%|████████████████████████████████████████████████████████████████████████████████████████████████████████| 5/5 [00:09<00:00,  1.92s/it]\n",
      "Parameter Perturbation: 100%|████████████████████████████████████████████████████████████████████████████████████████████████████████| 5/5 [00:08<00:00,  1.73s/it]\n",
      "Parameter Perturbation: 100%|████████████████████████████████████████████████████████████████████████████████████████████████████████| 5/5 [00:09<00:00,  1.85s/it]\n",
      "Parameter Perturbation: 100%|████████████████████████████████████████████████████████████████████████████████████████████████████████| 5/5 [00:09<00:00,  1.82s/it]\n",
      "Parameter Perturbation: 100%|████████████████████████████████████████████████████████████████████████████████████████████████████████| 5/5 [00:13<00:00,  2.71s/it]\n",
      "Parameter Perturbation: 100%|████████████████████████████████████████████████████████████████████████████████████████████████████████| 5/5 [00:09<00:00,  1.90s/it]\n",
      "Parameter Perturbation: 100%|████████████████████████████████████████████████████████████████████████████████████████████████████████| 5/5 [00:08<00:00,  1.80s/it]\n",
      "Parameter Perturbation: 100%|████████████████████████████████████████████████████████████████████████████████████████████████████████| 5/5 [00:11<00:00,  2.26s/it]\n",
      "Parameter Perturbation: 100%|████████████████████████████████████████████████████████████████████████████████████████████████████████| 5/5 [00:08<00:00,  1.78s/it]\n",
      "Processing folder groups: 100%|█████████████████████████████████████████████████████████████████████████████████████████████████████| 4/4 [06:53<00:00, 103.41s/it]"
     ]
    },
    {
     "name": "stdout",
     "output_type": "stream",
     "text": [
      "\n",
      "所有计算完成 ✅ 结果已保存至: /home/ps/zyp/evaluate/CMMD-plus/test-renwu/result_EMACMMD_1e-3.json\n"
     ]
    },
    {
     "name": "stderr",
     "output_type": "stream",
     "text": [
      "\n"
     ]
    }
   ],
   "source": [
    "import os\n",
    "import json\n",
    "import numpy as np\n",
    "from collections import defaultdict\n",
    "from tqdm import tqdm\n",
    "from evaluate.CMMD_plus.embedding import ClipEmbeddingModel\n",
    "from evaluate.CMMD_plus.io_util import compute_embeddings_for_dir\n",
    "from evaluate.CMMD_plus.main import cumulative_cmmd\n",
    "\n",
    "def get_folder_groups(folder_path):\n",
    "    \"\"\"按前缀（如 flux, sd3, sdxl）分组文件夹\"\"\"\n",
    "    folder_groups = defaultdict(list)\n",
    "\n",
    "    for folder in os.listdir(folder_path):\n",
    "        folder_path_full = os.path.join(folder_path, folder)\n",
    "        if os.path.isdir(folder_path_full):\n",
    "            prefix = folder.split(\"_\")[0]  # 获取前缀\n",
    "            folder_groups[prefix].append(folder_path_full)\n",
    "\n",
    "    return folder_groups\n",
    "\n",
    "def compute_and_save_scores(output_dir, result_fid_json, ref_dir, alpha=0.9):\n",
    "    folder_groups = get_folder_groups(output_dir)\n",
    "    print(\"发现以下待处理的文件夹组:\", folder_groups.keys())\n",
    "\n",
    "    results = {}\n",
    "\n",
    "    # **1. 预计算参考集的 embedding**\n",
    "    print(\"\\n计算参考图像集的 embedding（只计算一次）...\")\n",
    "    embedding_model = ClipEmbeddingModel()\n",
    "    ref_embs = compute_embeddings_for_dir(\n",
    "        img_dir=ref_dir,\n",
    "        embedding_model=embedding_model,\n",
    "        batch_size=32,\n",
    "        max_count=-1\n",
    "    ).astype(\"float32\")\n",
    "\n",
    "    print(\"参考集 embedding 计算完成！\")\n",
    "\n",
    "    # **2. 遍历测试文件夹组，计算 CMMD**\n",
    "    print(\"\\n开始计算前缀分组后的 CMMD 评分...\")\n",
    "    for prefix, folder_paths in tqdm(folder_groups.items(), desc=\"Processing folder groups\"):\n",
    "        print(f\"\\n处理前缀: {prefix}\")\n",
    "\n",
    "        # **获取所有图片路径**\n",
    "        img_list = []\n",
    "        for folder_path in folder_paths:\n",
    "            img_list.extend([\n",
    "                os.path.join(folder_path, f)\n",
    "                for f in os.listdir(folder_path)\n",
    "                if f.endswith(('.png', '.jpg', '.jpeg'))\n",
    "            ])\n",
    "\n",
    "        if not img_list:\n",
    "            print(f\"⚠️ 警告: 组 {prefix} 中没有找到图片，跳过！\")\n",
    "            continue\n",
    "\n",
    "        # **计算 EMA 版本的 CMMD**\n",
    "        CMMD_ema_score = cumulative_cmmd(\n",
    "            ref_embs=ref_embs,  # 直接传入已计算好的参考集 embedding\n",
    "            img_list=img_list,  # 该前缀的所有图片\n",
    "            alpha=alpha,\n",
    "            perturb_scale=1e-3\n",
    "        )\n",
    "\n",
    "        # **存入结果字典**\n",
    "        results[prefix] = {\n",
    "            'CMMD_ema_score': CMMD_ema_score\n",
    "        }\n",
    "\n",
    "    # **3. 保存计算结果到 JSON 文件**\n",
    "    with open(result_fid_json, 'w') as f:\n",
    "        json.dump(results, f, indent=4)\n",
    "\n",
    "    print(f\"\\n所有计算完成 ✅ 结果已保存至: {result_fid_json}\")\n",
    "\n",
    "if __name__ == \"__main__\":\n",
    "    output_dir = \"/home/ps/zyp/evaluate/CMMD-plus/test-renwu\"  # 目标文件夹路径\n",
    "    result_fid_json = \"/home/ps/zyp/evaluate/CMMD-plus/test-renwu/result_EMACMMD_1e-3.json\"  # 结果 JSON\n",
    "    ref_dir = \"/home/ps/sdbench/train/datasets/Renwu\"  # 参考图像目录\n",
    "\n",
    "    compute_and_save_scores(output_dir, result_fid_json, ref_dir)\n"
   ]
  },
  {
   "cell_type": "code",
   "execution_count": 4,
   "metadata": {},
   "outputs": [
    {
     "name": "stdout",
     "output_type": "stream",
     "text": [
      "flux: 4.027120633054732\n",
      "sdxl: 4.169022790382504\n",
      "sd3: 4.2550903761523955\n",
      "sd1.5: 5.353388650109411\n"
     ]
    }
   ],
   "source": [
    "import json\n",
    "\n",
    "# 读取 JSON 文件\n",
    "file_path = \"/home/ps/zyp/evaluate/CMMD-plus/test-renwu/result_EMACMMD_1e-3.json\"\n",
    "\n",
    "with open(file_path, \"r\") as f:\n",
    "    data = json.load(f)\n",
    "\n",
    "# 按 `CMMD_ema_score` 进行升序排序\n",
    "sorted_data = sorted(data.items(), key=lambda x: x[1][\"CMMD_ema_score\"])\n",
    "\n",
    "# 打印排序后的结果\n",
    "for folder, scores in sorted_data:\n",
    "    print(f\"{folder}: {scores['CMMD_ema_score']}\")\n"
   ]
  },
  {
   "cell_type": "markdown",
   "metadata": {},
   "source": [
    "# ConvNext v2实验"
   ]
  },
  {
   "cell_type": "code",
   "execution_count": null,
   "metadata": {},
   "outputs": [],
   "source": []
  }
 ],
 "metadata": {
  "kernelspec": {
   "display_name": "Python 3 (ipykernel)",
   "language": "python",
   "name": "python3"
  },
  "language_info": {
   "codemirror_mode": {
    "name": "ipython",
    "version": 3
   },
   "file_extension": ".py",
   "mimetype": "text/x-python",
   "name": "python",
   "nbconvert_exporter": "python",
   "pygments_lexer": "ipython3",
   "version": "3.10.14"
  }
 },
 "nbformat": 4,
 "nbformat_minor": 2
}
